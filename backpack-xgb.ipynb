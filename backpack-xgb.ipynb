{
 "cells": [
  {
   "cell_type": "code",
   "execution_count": 1,
   "id": "0dc57e79",
   "metadata": {
    "_cell_guid": "b1076dfc-b9ad-4769-8c92-a6c4dae69d19",
    "_uuid": "8f2839f25d086af736a60e9eeb907d3b93b6e0e5",
    "execution": {
     "iopub.execute_input": "2025-02-11T15:18:27.048708Z",
     "iopub.status.busy": "2025-02-11T15:18:27.048289Z",
     "iopub.status.idle": "2025-02-11T15:18:29.636190Z",
     "shell.execute_reply": "2025-02-11T15:18:29.635207Z"
    },
    "papermill": {
     "duration": 2.594489,
     "end_time": "2025-02-11T15:18:29.638154",
     "exception": false,
     "start_time": "2025-02-11T15:18:27.043665",
     "status": "completed"
    },
    "tags": []
   },
   "outputs": [],
   "source": [
    "import numpy as np # linear algebra\n",
    "import pandas as pd # data processing, CSV file I/O (e.g. pd.read_csv)\n",
    "import os\n",
    "from sklearn.model_selection import train_test_split\n",
    "\n",
    "# Input data files are available in the read-only \"../input/\" directory\n",
    "# For example, running this (by clicking run or pressing Shift+Enter) will list all files under the input directory\n",
    "\n"
   ]
  },
  {
   "cell_type": "code",
   "execution_count": 2,
   "id": "44d7b60c",
   "metadata": {
    "execution": {
     "iopub.execute_input": "2025-02-11T15:18:29.646806Z",
     "iopub.status.busy": "2025-02-11T15:18:29.646267Z",
     "iopub.status.idle": "2025-02-11T15:18:43.309597Z",
     "shell.execute_reply": "2025-02-11T15:18:43.308039Z"
    },
    "papermill": {
     "duration": 13.669884,
     "end_time": "2025-02-11T15:18:43.311689",
     "exception": false,
     "start_time": "2025-02-11T15:18:29.641805",
     "status": "completed"
    },
    "tags": []
   },
   "outputs": [
    {
     "data": {
      "text/plain": [
       "Brand                   126758\n",
       "Material                110962\n",
       "Size                     87785\n",
       "Compartments                 0\n",
       "Laptop Compartment       98533\n",
       "Waterproof               94324\n",
       "Style                   104180\n",
       "Color                   133617\n",
       "Weight Capacity (kg)      1808\n",
       "dtype: int64"
      ]
     },
     "execution_count": 2,
     "metadata": {},
     "output_type": "execute_result"
    }
   ],
   "source": [
    "X_small = pd.read_csv('/kaggle/input/playground-series-s5e2/train.csv', index_col= 'id')\n",
    "X_test = pd.read_csv('/kaggle/input/playground-series-s5e2/test.csv', index_col= 'id')\n",
    "X_extra = pd.read_csv('/kaggle/input/playground-series-s5e2/training_extra.csv', index_col= 'id')\n",
    "\n",
    "X_full = pd.concat([X_small, X_extra], ignore_index=True)\n",
    "\n",
    "# Remove rows with missing values for price\n",
    "X_full.dropna(axis=0,subset=['Price'],inplace=True)\n",
    "\n",
    "# Remove rows with missing values for all\n",
    "#X_full.dropna(axis=0,subset=['Price','Brand','Material','Size', 'Compartments', 'Laptop Compartment',\n",
    "#                            'Waterproof','Style', 'Color', 'Weight Capacity (kg)'],inplace=True)\n",
    "\n",
    "# Seperate Targets\n",
    "y = X_full.Price\n",
    "X_full.drop(['Price'],inplace=True, axis=1)\n",
    "\n",
    "\n",
    "X_full.isna().sum()\n",
    "\n",
    "\n"
   ]
  },
  {
   "cell_type": "code",
   "execution_count": 3,
   "id": "3950f342",
   "metadata": {
    "execution": {
     "iopub.execute_input": "2025-02-11T15:18:43.319137Z",
     "iopub.status.busy": "2025-02-11T15:18:43.318749Z",
     "iopub.status.idle": "2025-02-11T15:18:43.340127Z",
     "shell.execute_reply": "2025-02-11T15:18:43.338756Z"
    },
    "papermill": {
     "duration": 0.027042,
     "end_time": "2025-02-11T15:18:43.341975",
     "exception": false,
     "start_time": "2025-02-11T15:18:43.314933",
     "status": "completed"
    },
    "tags": []
   },
   "outputs": [
    {
     "name": "stdout",
     "output_type": "stream",
     "text": [
      "<class 'pandas.core.frame.DataFrame'>\n",
      "RangeIndex: 3994318 entries, 0 to 3994317\n",
      "Data columns (total 9 columns):\n",
      " #   Column                Dtype  \n",
      "---  ------                -----  \n",
      " 0   Brand                 object \n",
      " 1   Material              object \n",
      " 2   Size                  object \n",
      " 3   Compartments          float64\n",
      " 4   Laptop Compartment    object \n",
      " 5   Waterproof            object \n",
      " 6   Style                 object \n",
      " 7   Color                 object \n",
      " 8   Weight Capacity (kg)  float64\n",
      "dtypes: float64(2), object(7)\n",
      "memory usage: 274.3+ MB\n"
     ]
    }
   ],
   "source": [
    "X_full.info()"
   ]
  },
  {
   "cell_type": "code",
   "execution_count": 4,
   "id": "5c0f5c92",
   "metadata": {
    "execution": {
     "iopub.execute_input": "2025-02-11T15:18:43.350179Z",
     "iopub.status.busy": "2025-02-11T15:18:43.349780Z",
     "iopub.status.idle": "2025-02-11T15:18:43.939072Z",
     "shell.execute_reply": "2025-02-11T15:18:43.937926Z"
    },
    "papermill": {
     "duration": 0.596041,
     "end_time": "2025-02-11T15:18:43.941469",
     "exception": false,
     "start_time": "2025-02-11T15:18:43.345428",
     "status": "completed"
    },
    "tags": []
   },
   "outputs": [],
   "source": [
    "# Break validiation set from train data\n",
    "X_train, X_valid, y_train, y_valid = train_test_split(X_full, y, train_size=1,test_size=0.1)\n"
   ]
  },
  {
   "cell_type": "code",
   "execution_count": 5,
   "id": "476868c0",
   "metadata": {
    "execution": {
     "iopub.execute_input": "2025-02-11T15:18:43.953672Z",
     "iopub.status.busy": "2025-02-11T15:18:43.953281Z",
     "iopub.status.idle": "2025-02-11T15:18:44.283123Z",
     "shell.execute_reply": "2025-02-11T15:18:44.281963Z"
    },
    "papermill": {
     "duration": 0.338169,
     "end_time": "2025-02-11T15:18:44.285050",
     "exception": false,
     "start_time": "2025-02-11T15:18:43.946881",
     "status": "completed"
    },
    "tags": []
   },
   "outputs": [
    {
     "data": {
      "text/html": [
       "<style>#sk-container-id-1 {color: black;background-color: white;}#sk-container-id-1 pre{padding: 0;}#sk-container-id-1 div.sk-toggleable {background-color: white;}#sk-container-id-1 label.sk-toggleable__label {cursor: pointer;display: block;width: 100%;margin-bottom: 0;padding: 0.3em;box-sizing: border-box;text-align: center;}#sk-container-id-1 label.sk-toggleable__label-arrow:before {content: \"▸\";float: left;margin-right: 0.25em;color: #696969;}#sk-container-id-1 label.sk-toggleable__label-arrow:hover:before {color: black;}#sk-container-id-1 div.sk-estimator:hover label.sk-toggleable__label-arrow:before {color: black;}#sk-container-id-1 div.sk-toggleable__content {max-height: 0;max-width: 0;overflow: hidden;text-align: left;background-color: #f0f8ff;}#sk-container-id-1 div.sk-toggleable__content pre {margin: 0.2em;color: black;border-radius: 0.25em;background-color: #f0f8ff;}#sk-container-id-1 input.sk-toggleable__control:checked~div.sk-toggleable__content {max-height: 200px;max-width: 100%;overflow: auto;}#sk-container-id-1 input.sk-toggleable__control:checked~label.sk-toggleable__label-arrow:before {content: \"▾\";}#sk-container-id-1 div.sk-estimator input.sk-toggleable__control:checked~label.sk-toggleable__label {background-color: #d4ebff;}#sk-container-id-1 div.sk-label input.sk-toggleable__control:checked~label.sk-toggleable__label {background-color: #d4ebff;}#sk-container-id-1 input.sk-hidden--visually {border: 0;clip: rect(1px 1px 1px 1px);clip: rect(1px, 1px, 1px, 1px);height: 1px;margin: -1px;overflow: hidden;padding: 0;position: absolute;width: 1px;}#sk-container-id-1 div.sk-estimator {font-family: monospace;background-color: #f0f8ff;border: 1px dotted black;border-radius: 0.25em;box-sizing: border-box;margin-bottom: 0.5em;}#sk-container-id-1 div.sk-estimator:hover {background-color: #d4ebff;}#sk-container-id-1 div.sk-parallel-item::after {content: \"\";width: 100%;border-bottom: 1px solid gray;flex-grow: 1;}#sk-container-id-1 div.sk-label:hover label.sk-toggleable__label {background-color: #d4ebff;}#sk-container-id-1 div.sk-serial::before {content: \"\";position: absolute;border-left: 1px solid gray;box-sizing: border-box;top: 0;bottom: 0;left: 50%;z-index: 0;}#sk-container-id-1 div.sk-serial {display: flex;flex-direction: column;align-items: center;background-color: white;padding-right: 0.2em;padding-left: 0.2em;position: relative;}#sk-container-id-1 div.sk-item {position: relative;z-index: 1;}#sk-container-id-1 div.sk-parallel {display: flex;align-items: stretch;justify-content: center;background-color: white;position: relative;}#sk-container-id-1 div.sk-item::before, #sk-container-id-1 div.sk-parallel-item::before {content: \"\";position: absolute;border-left: 1px solid gray;box-sizing: border-box;top: 0;bottom: 0;left: 50%;z-index: -1;}#sk-container-id-1 div.sk-parallel-item {display: flex;flex-direction: column;z-index: 1;position: relative;background-color: white;}#sk-container-id-1 div.sk-parallel-item:first-child::after {align-self: flex-end;width: 50%;}#sk-container-id-1 div.sk-parallel-item:last-child::after {align-self: flex-start;width: 50%;}#sk-container-id-1 div.sk-parallel-item:only-child::after {width: 0;}#sk-container-id-1 div.sk-dashed-wrapped {border: 1px dashed gray;margin: 0 0.4em 0.5em 0.4em;box-sizing: border-box;padding-bottom: 0.4em;background-color: white;}#sk-container-id-1 div.sk-label label {font-family: monospace;font-weight: bold;display: inline-block;line-height: 1.2em;}#sk-container-id-1 div.sk-label-container {text-align: center;}#sk-container-id-1 div.sk-container {/* jupyter's `normalize.less` sets `[hidden] { display: none; }` but bootstrap.min.css set `[hidden] { display: none !important; }` so we also need the `!important` here to be able to override the default hidden behavior on the sphinx rendered scikit-learn.org. See: https://github.com/scikit-learn/scikit-learn/issues/21755 */display: inline-block !important;position: relative;}#sk-container-id-1 div.sk-text-repr-fallback {display: none;}</style><div id=\"sk-container-id-1\" class=\"sk-top-container\"><div class=\"sk-text-repr-fallback\"><pre>ColumnTransformer(transformers=[(&#x27;num&#x27;, SimpleImputer(strategy=&#x27;median&#x27;),\n",
       "                                 [&#x27;Compartments&#x27;, &#x27;Weight Capacity (kg)&#x27;]),\n",
       "                                (&#x27;cat&#x27;,\n",
       "                                 Pipeline(steps=[(&#x27;imputer&#x27;,\n",
       "                                                  SimpleImputer(strategy=&#x27;most_frequent&#x27;)),\n",
       "                                                 (&#x27;onehot&#x27;,\n",
       "                                                  OneHotEncoder(handle_unknown=&#x27;ignore&#x27;))]),\n",
       "                                 [&#x27;Brand&#x27;, &#x27;Material&#x27;, &#x27;Size&#x27;,\n",
       "                                  &#x27;Laptop Compartment&#x27;, &#x27;Waterproof&#x27;, &#x27;Style&#x27;,\n",
       "                                  &#x27;Color&#x27;])])</pre><b>In a Jupyter environment, please rerun this cell to show the HTML representation or trust the notebook. <br />On GitHub, the HTML representation is unable to render, please try loading this page with nbviewer.org.</b></div><div class=\"sk-container\" hidden><div class=\"sk-item sk-dashed-wrapped\"><div class=\"sk-label-container\"><div class=\"sk-label sk-toggleable\"><input class=\"sk-toggleable__control sk-hidden--visually\" id=\"sk-estimator-id-1\" type=\"checkbox\" ><label for=\"sk-estimator-id-1\" class=\"sk-toggleable__label sk-toggleable__label-arrow\">ColumnTransformer</label><div class=\"sk-toggleable__content\"><pre>ColumnTransformer(transformers=[(&#x27;num&#x27;, SimpleImputer(strategy=&#x27;median&#x27;),\n",
       "                                 [&#x27;Compartments&#x27;, &#x27;Weight Capacity (kg)&#x27;]),\n",
       "                                (&#x27;cat&#x27;,\n",
       "                                 Pipeline(steps=[(&#x27;imputer&#x27;,\n",
       "                                                  SimpleImputer(strategy=&#x27;most_frequent&#x27;)),\n",
       "                                                 (&#x27;onehot&#x27;,\n",
       "                                                  OneHotEncoder(handle_unknown=&#x27;ignore&#x27;))]),\n",
       "                                 [&#x27;Brand&#x27;, &#x27;Material&#x27;, &#x27;Size&#x27;,\n",
       "                                  &#x27;Laptop Compartment&#x27;, &#x27;Waterproof&#x27;, &#x27;Style&#x27;,\n",
       "                                  &#x27;Color&#x27;])])</pre></div></div></div><div class=\"sk-parallel\"><div class=\"sk-parallel-item\"><div class=\"sk-item\"><div class=\"sk-label-container\"><div class=\"sk-label sk-toggleable\"><input class=\"sk-toggleable__control sk-hidden--visually\" id=\"sk-estimator-id-2\" type=\"checkbox\" ><label for=\"sk-estimator-id-2\" class=\"sk-toggleable__label sk-toggleable__label-arrow\">num</label><div class=\"sk-toggleable__content\"><pre>[&#x27;Compartments&#x27;, &#x27;Weight Capacity (kg)&#x27;]</pre></div></div></div><div class=\"sk-serial\"><div class=\"sk-item\"><div class=\"sk-estimator sk-toggleable\"><input class=\"sk-toggleable__control sk-hidden--visually\" id=\"sk-estimator-id-3\" type=\"checkbox\" ><label for=\"sk-estimator-id-3\" class=\"sk-toggleable__label sk-toggleable__label-arrow\">SimpleImputer</label><div class=\"sk-toggleable__content\"><pre>SimpleImputer(strategy=&#x27;median&#x27;)</pre></div></div></div></div></div></div><div class=\"sk-parallel-item\"><div class=\"sk-item\"><div class=\"sk-label-container\"><div class=\"sk-label sk-toggleable\"><input class=\"sk-toggleable__control sk-hidden--visually\" id=\"sk-estimator-id-4\" type=\"checkbox\" ><label for=\"sk-estimator-id-4\" class=\"sk-toggleable__label sk-toggleable__label-arrow\">cat</label><div class=\"sk-toggleable__content\"><pre>[&#x27;Brand&#x27;, &#x27;Material&#x27;, &#x27;Size&#x27;, &#x27;Laptop Compartment&#x27;, &#x27;Waterproof&#x27;, &#x27;Style&#x27;, &#x27;Color&#x27;]</pre></div></div></div><div class=\"sk-serial\"><div class=\"sk-item\"><div class=\"sk-serial\"><div class=\"sk-item\"><div class=\"sk-estimator sk-toggleable\"><input class=\"sk-toggleable__control sk-hidden--visually\" id=\"sk-estimator-id-5\" type=\"checkbox\" ><label for=\"sk-estimator-id-5\" class=\"sk-toggleable__label sk-toggleable__label-arrow\">SimpleImputer</label><div class=\"sk-toggleable__content\"><pre>SimpleImputer(strategy=&#x27;most_frequent&#x27;)</pre></div></div></div><div class=\"sk-item\"><div class=\"sk-estimator sk-toggleable\"><input class=\"sk-toggleable__control sk-hidden--visually\" id=\"sk-estimator-id-6\" type=\"checkbox\" ><label for=\"sk-estimator-id-6\" class=\"sk-toggleable__label sk-toggleable__label-arrow\">OneHotEncoder</label><div class=\"sk-toggleable__content\"><pre>OneHotEncoder(handle_unknown=&#x27;ignore&#x27;)</pre></div></div></div></div></div></div></div></div></div></div></div></div>"
      ],
      "text/plain": [
       "ColumnTransformer(transformers=[('num', SimpleImputer(strategy='median'),\n",
       "                                 ['Compartments', 'Weight Capacity (kg)']),\n",
       "                                ('cat',\n",
       "                                 Pipeline(steps=[('imputer',\n",
       "                                                  SimpleImputer(strategy='most_frequent')),\n",
       "                                                 ('onehot',\n",
       "                                                  OneHotEncoder(handle_unknown='ignore'))]),\n",
       "                                 ['Brand', 'Material', 'Size',\n",
       "                                  'Laptop Compartment', 'Waterproof', 'Style',\n",
       "                                  'Color'])])"
      ]
     },
     "execution_count": 5,
     "metadata": {},
     "output_type": "execute_result"
    }
   ],
   "source": [
    "from sklearn.compose import ColumnTransformer\n",
    "from sklearn.pipeline import Pipeline\n",
    "from sklearn.impute import SimpleImputer\n",
    "from sklearn.preprocessing import OneHotEncoder\n",
    "\n",
    "\n",
    "# \"Cardinality\" means the number of unique values in a column\n",
    "# Select categorical columns with relatively low cardinality (convenient but arbitrary)\n",
    "categorical_cols = [cname for cname in X_train.columns if X_train[cname].nunique() < 10 and \n",
    "                        X_train[cname].dtype == \"object\"]\n",
    "\n",
    "# Select numerical columns\n",
    "numerical_cols = [cname for cname in X_train.columns if X_train[cname].dtype in ['int64', 'float64']]\n",
    "\n",
    "# Preprocessing for numerical data\n",
    "numerical_transformer = SimpleImputer(strategy='median')\n",
    "\n",
    "# Preprocessing for categorical data\n",
    "categorical_transformer = Pipeline(steps=[\n",
    "    ('imputer', SimpleImputer(strategy='most_frequent')),\n",
    "    ('onehot', OneHotEncoder(handle_unknown='ignore'))\n",
    "])\n",
    "\n",
    "# Bundle preprocessing for numerical and categorical data\n",
    "preprocessor = ColumnTransformer(\n",
    "    transformers=[\n",
    "        ('num', numerical_transformer, numerical_cols),\n",
    "        ('cat', categorical_transformer, categorical_cols)\n",
    "    ])\n",
    "preprocessor\n"
   ]
  },
  {
   "cell_type": "code",
   "execution_count": 6,
   "id": "4786b6ff",
   "metadata": {
    "execution": {
     "iopub.execute_input": "2025-02-11T15:18:44.293633Z",
     "iopub.status.busy": "2025-02-11T15:18:44.293146Z",
     "iopub.status.idle": "2025-02-11T15:18:44.602641Z",
     "shell.execute_reply": "2025-02-11T15:18:44.601514Z"
    },
    "papermill": {
     "duration": 0.316362,
     "end_time": "2025-02-11T15:18:44.604994",
     "exception": false,
     "start_time": "2025-02-11T15:18:44.288632",
     "status": "completed"
    },
    "tags": []
   },
   "outputs": [],
   "source": [
    "from xgboost import XGBRegressor\n",
    "\n",
    "xgb_model = XGBRegressor(n_estimators=1500, learning_rate=0.05)"
   ]
  },
  {
   "cell_type": "code",
   "execution_count": 7,
   "id": "a71d199e",
   "metadata": {
    "execution": {
     "iopub.execute_input": "2025-02-11T15:18:44.618674Z",
     "iopub.status.busy": "2025-02-11T15:18:44.618231Z",
     "iopub.status.idle": "2025-02-11T15:18:47.915904Z",
     "shell.execute_reply": "2025-02-11T15:18:47.914236Z"
    },
    "papermill": {
     "duration": 3.306769,
     "end_time": "2025-02-11T15:18:47.918092",
     "exception": false,
     "start_time": "2025-02-11T15:18:44.611323",
     "status": "completed"
    },
    "tags": []
   },
   "outputs": [
    {
     "name": "stderr",
     "output_type": "stream",
     "text": [
      "/usr/local/lib/python3.10/dist-packages/xgboost/sklearn.py:889: UserWarning: `early_stopping_rounds` in `fit` method is deprecated for better compatibility with scikit-learn, use `early_stopping_rounds` in constructor or`set_params` instead.\n",
      "  warnings.warn(\n"
     ]
    },
    {
     "name": "stdout",
     "output_type": "stream",
     "text": [
      "RMSE: 68.33500723682855\n"
     ]
    }
   ],
   "source": [
    "import sklearn\n",
    "\n",
    "# Bundle preprocessing and modeling code in a pipeline\n",
    "my_pipeline = Pipeline(steps=[('preprocessor', preprocessor),\n",
    "                              ('model', xgb_model)\n",
    "                             ])\n",
    "\n",
    "# 1. Fit the preprocessor on X_train:\n",
    "preprocessor.fit(X_train)\n",
    "\n",
    "# 2. Transform the validation set:\n",
    "X_valid_transformed = preprocessor.transform(X_valid)\n",
    "\n",
    "# Preprocessing of training data, fit model \n",
    "my_pipeline.fit(\n",
    "    X_train, y_train,\n",
    "    model__early_stopping_rounds=5,\n",
    "    model__eval_set=[(X_valid_transformed, y_valid)],\n",
    "    model__verbose=False\n",
    ")\n",
    "\n",
    "# Preprocessing of validation data, get predictions\n",
    "preds = my_pipeline.predict(X_valid)\n",
    "\n",
    "# Evaluate the model \n",
    "score = np.sqrt(sklearn.metrics.mean_squared_error(preds, y_valid))\n",
    "print('RMSE:', score)"
   ]
  },
  {
   "cell_type": "code",
   "execution_count": 8,
   "id": "4372d7cf",
   "metadata": {
    "execution": {
     "iopub.execute_input": "2025-02-11T15:18:47.926660Z",
     "iopub.status.busy": "2025-02-11T15:18:47.926238Z",
     "iopub.status.idle": "2025-02-11T15:18:48.968523Z",
     "shell.execute_reply": "2025-02-11T15:18:48.967338Z"
    },
    "papermill": {
     "duration": 1.048724,
     "end_time": "2025-02-11T15:18:48.970458",
     "exception": false,
     "start_time": "2025-02-11T15:18:47.921734",
     "status": "completed"
    },
    "tags": []
   },
   "outputs": [],
   "source": [
    "# Predict on test set\n",
    "test_pred = my_pipeline.predict(X_test)\n",
    "\n",
    "output = pd.DataFrame({'id': X_test.index,\n",
    "                      'Price': test_pred})\n",
    "\n",
    "output.to_csv('submission.csv', index=False)"
   ]
  },
  {
   "cell_type": "code",
   "execution_count": 9,
   "id": "5da605d4",
   "metadata": {
    "execution": {
     "iopub.execute_input": "2025-02-11T15:18:48.978840Z",
     "iopub.status.busy": "2025-02-11T15:18:48.978405Z",
     "iopub.status.idle": "2025-02-11T15:18:52.743695Z",
     "shell.execute_reply": "2025-02-11T15:18:52.742088Z"
    },
    "papermill": {
     "duration": 3.771803,
     "end_time": "2025-02-11T15:18:52.745928",
     "exception": false,
     "start_time": "2025-02-11T15:18:48.974125",
     "status": "completed"
    },
    "tags": []
   },
   "outputs": [],
   "source": [
    "!pip3 freeze > requirements.txt  "
   ]
  }
 ],
 "metadata": {
  "kaggle": {
   "accelerator": "none",
   "dataSources": [
    {
     "databundleVersionId": 10995111,
     "sourceId": 90274,
     "sourceType": "competition"
    }
   ],
   "dockerImageVersionId": 30839,
   "isGpuEnabled": false,
   "isInternetEnabled": false,
   "language": "python",
   "sourceType": "notebook"
  },
  "kernelspec": {
   "display_name": "Python 3",
   "language": "python",
   "name": "python3"
  },
  "language_info": {
   "codemirror_mode": {
    "name": "ipython",
    "version": 3
   },
   "file_extension": ".py",
   "mimetype": "text/x-python",
   "name": "python",
   "nbconvert_exporter": "python",
   "pygments_lexer": "ipython3",
   "version": "3.10.12"
  },
  "papermill": {
   "default_parameters": {},
   "duration": 29.893032,
   "end_time": "2025-02-11T15:18:53.873205",
   "environment_variables": {},
   "exception": null,
   "input_path": "__notebook__.ipynb",
   "output_path": "__notebook__.ipynb",
   "parameters": {},
   "start_time": "2025-02-11T15:18:23.980173",
   "version": "2.6.0"
  }
 },
 "nbformat": 4,
 "nbformat_minor": 5
}
