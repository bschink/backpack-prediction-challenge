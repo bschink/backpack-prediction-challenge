{
 "cells": [
  {
   "cell_type": "code",
   "execution_count": 3,
   "id": "cbd83c4d",
   "metadata": {
    "_cell_guid": "b1076dfc-b9ad-4769-8c92-a6c4dae69d19",
    "_uuid": "8f2839f25d086af736a60e9eeb907d3b93b6e0e5",
    "execution": {
     "iopub.execute_input": "2025-02-11T15:22:14.441677Z",
     "iopub.status.busy": "2025-02-11T15:22:14.441261Z",
     "iopub.status.idle": "2025-02-11T15:22:18.036884Z",
     "shell.execute_reply": "2025-02-11T15:22:18.035103Z"
    },
    "papermill": {
     "duration": 3.601645,
     "end_time": "2025-02-11T15:22:18.038913",
     "exception": false,
     "start_time": "2025-02-11T15:22:14.437268",
     "status": "completed"
    },
    "tags": []
   },
   "outputs": [],
   "source": [
    "import numpy as np # linear algebra\n",
    "import pandas as pd # data processing, CSV file I/O (e.g. pd.read_csv)\n",
    "import os\n",
    "from sklearn.model_selection import train_test_split, KFold, GridSearchCV\n",
    "from sklearn.ensemble import IsolationForest\n",
    "\n",
    "\n",
    "# Input data files are available in the read-only \"../input/\" directory\n",
    "# For example, running this (by clicking run or pressing Shift+Enter) will list all files under the input directory\n",
    "\n"
   ]
  },
  {
   "cell_type": "code",
   "execution_count": 4,
   "id": "d4b174de",
   "metadata": {
    "execution": {
     "iopub.execute_input": "2025-02-11T15:22:18.047135Z",
     "iopub.status.busy": "2025-02-11T15:22:18.046585Z",
     "iopub.status.idle": "2025-02-11T15:22:28.705875Z",
     "shell.execute_reply": "2025-02-11T15:22:28.704739Z"
    },
    "papermill": {
     "duration": 10.665229,
     "end_time": "2025-02-11T15:22:28.707199",
     "exception": false,
     "start_time": "2025-02-11T15:22:18.041970",
     "status": "completed"
    },
    "tags": []
   },
   "outputs": [
    {
     "data": {
      "text/plain": [
       "Brand                   126758\n",
       "Material                110962\n",
       "Size                     87785\n",
       "Compartments                 0\n",
       "Laptop Compartment       98533\n",
       "Waterproof               94324\n",
       "Style                   104180\n",
       "Color                   133617\n",
       "Weight Capacity (kg)      1808\n",
       "dtype: int64"
      ]
     },
     "execution_count": 4,
     "metadata": {},
     "output_type": "execute_result"
    }
   ],
   "source": [
    "server = False\n",
    "\n",
    "if(server):\n",
    "    X_small = pd.read_csv('/kaggle/input/playground-series-s5e2/train.csv', index_col= 'id')\n",
    "    X_test = pd.read_csv('/kaggle/input/playground-series-s5e2/test.csv', index_col= 'id')\n",
    "    X_extra = pd.read_csv('/kaggle/input/playground-series-s5e2/training_extra.csv', index_col= 'id')\n",
    "else:\n",
    "    X_small = pd.read_csv('data/train.csv', index_col= 'id')\n",
    "    X_test = pd.read_csv('data/test.csv', index_col= 'id')\n",
    "    X_extra = pd.read_csv('data/training_extra.csv', index_col= 'id')\n",
    "\n",
    "X_full = pd.concat([X_small, X_extra], ignore_index=True)\n",
    "\n",
    "# Remove rows with missing values for price\n",
    "X_full.dropna(axis=0,subset=['Price'],inplace=True)\n",
    "\n",
    "# Outlier detection\n",
    "# iso = IsolationForest(contamination=0.01)\n",
    "# yhat = iso.fit_predict(X_full)\n",
    "# mask = yhat != -1\n",
    "# X_full, y = X_full[mask], y[mask]\n",
    "\n",
    "# Remove rows with missing values for all\n",
    "#X_full.dropna(axis=0,subset=['Price','Brand','Material','Size', 'Compartments', 'Laptop Compartment',\n",
    "#                            'Waterproof','Style', 'Color', 'Weight Capacity (kg)'],inplace=True)\n",
    "\n",
    "# Seperate Targets\n",
    "y = X_full.Price\n",
    "X_full.drop(['Price'],inplace=True, axis=1)\n",
    "\n",
    "\n",
    "X_full.isna().sum()\n",
    "\n",
    "\n"
   ]
  },
  {
   "cell_type": "code",
   "execution_count": 5,
   "id": "f2d0b85d",
   "metadata": {
    "execution": {
     "iopub.execute_input": "2025-02-11T15:22:28.713798Z",
     "iopub.status.busy": "2025-02-11T15:22:28.713431Z",
     "iopub.status.idle": "2025-02-11T15:22:28.734658Z",
     "shell.execute_reply": "2025-02-11T15:22:28.733362Z"
    },
    "papermill": {
     "duration": 0.02658,
     "end_time": "2025-02-11T15:22:28.736062",
     "exception": false,
     "start_time": "2025-02-11T15:22:28.709482",
     "status": "completed"
    },
    "tags": []
   },
   "outputs": [
    {
     "name": "stdout",
     "output_type": "stream",
     "text": [
      "<class 'pandas.core.frame.DataFrame'>\n",
      "RangeIndex: 3994318 entries, 0 to 3994317\n",
      "Data columns (total 9 columns):\n",
      " #   Column                Dtype  \n",
      "---  ------                -----  \n",
      " 0   Brand                 object \n",
      " 1   Material              object \n",
      " 2   Size                  object \n",
      " 3   Compartments          float64\n",
      " 4   Laptop Compartment    object \n",
      " 5   Waterproof            object \n",
      " 6   Style                 object \n",
      " 7   Color                 object \n",
      " 8   Weight Capacity (kg)  float64\n",
      "dtypes: float64(2), object(7)\n",
      "memory usage: 274.3+ MB\n"
     ]
    }
   ],
   "source": [
    "X_full.info()"
   ]
  },
  {
   "cell_type": "code",
   "execution_count": 6,
   "id": "1664172c",
   "metadata": {
    "execution": {
     "iopub.execute_input": "2025-02-11T15:22:28.741601Z",
     "iopub.status.busy": "2025-02-11T15:22:28.741275Z",
     "iopub.status.idle": "2025-02-11T15:22:30.783291Z",
     "shell.execute_reply": "2025-02-11T15:22:30.781704Z"
    },
    "papermill": {
     "duration": 2.04791,
     "end_time": "2025-02-11T15:22:30.786290",
     "exception": false,
     "start_time": "2025-02-11T15:22:28.738380",
     "status": "completed"
    },
    "tags": []
   },
   "outputs": [],
   "source": [
    "# Break validiation set from train data\n",
    "X_train, X_valid, y_train, y_valid = train_test_split(X_full, y, train_size=0.9,test_size=0.1)\n"
   ]
  },
  {
   "cell_type": "code",
   "execution_count": 7,
   "id": "43c4bd46",
   "metadata": {
    "execution": {
     "iopub.execute_input": "2025-02-11T15:22:30.792781Z",
     "iopub.status.busy": "2025-02-11T15:22:30.792144Z",
     "iopub.status.idle": "2025-02-11T15:22:32.324091Z",
     "shell.execute_reply": "2025-02-11T15:22:32.322766Z"
    },
    "papermill": {
     "duration": 1.536899,
     "end_time": "2025-02-11T15:22:32.325822",
     "exception": false,
     "start_time": "2025-02-11T15:22:30.788923",
     "status": "completed"
    },
    "tags": []
   },
   "outputs": [
    {
     "data": {
      "text/html": [
       "<style>#sk-container-id-1 {color: black;background-color: white;}#sk-container-id-1 pre{padding: 0;}#sk-container-id-1 div.sk-toggleable {background-color: white;}#sk-container-id-1 label.sk-toggleable__label {cursor: pointer;display: block;width: 100%;margin-bottom: 0;padding: 0.3em;box-sizing: border-box;text-align: center;}#sk-container-id-1 label.sk-toggleable__label-arrow:before {content: \"▸\";float: left;margin-right: 0.25em;color: #696969;}#sk-container-id-1 label.sk-toggleable__label-arrow:hover:before {color: black;}#sk-container-id-1 div.sk-estimator:hover label.sk-toggleable__label-arrow:before {color: black;}#sk-container-id-1 div.sk-toggleable__content {max-height: 0;max-width: 0;overflow: hidden;text-align: left;background-color: #f0f8ff;}#sk-container-id-1 div.sk-toggleable__content pre {margin: 0.2em;color: black;border-radius: 0.25em;background-color: #f0f8ff;}#sk-container-id-1 input.sk-toggleable__control:checked~div.sk-toggleable__content {max-height: 200px;max-width: 100%;overflow: auto;}#sk-container-id-1 input.sk-toggleable__control:checked~label.sk-toggleable__label-arrow:before {content: \"▾\";}#sk-container-id-1 div.sk-estimator input.sk-toggleable__control:checked~label.sk-toggleable__label {background-color: #d4ebff;}#sk-container-id-1 div.sk-label input.sk-toggleable__control:checked~label.sk-toggleable__label {background-color: #d4ebff;}#sk-container-id-1 input.sk-hidden--visually {border: 0;clip: rect(1px 1px 1px 1px);clip: rect(1px, 1px, 1px, 1px);height: 1px;margin: -1px;overflow: hidden;padding: 0;position: absolute;width: 1px;}#sk-container-id-1 div.sk-estimator {font-family: monospace;background-color: #f0f8ff;border: 1px dotted black;border-radius: 0.25em;box-sizing: border-box;margin-bottom: 0.5em;}#sk-container-id-1 div.sk-estimator:hover {background-color: #d4ebff;}#sk-container-id-1 div.sk-parallel-item::after {content: \"\";width: 100%;border-bottom: 1px solid gray;flex-grow: 1;}#sk-container-id-1 div.sk-label:hover label.sk-toggleable__label {background-color: #d4ebff;}#sk-container-id-1 div.sk-serial::before {content: \"\";position: absolute;border-left: 1px solid gray;box-sizing: border-box;top: 0;bottom: 0;left: 50%;z-index: 0;}#sk-container-id-1 div.sk-serial {display: flex;flex-direction: column;align-items: center;background-color: white;padding-right: 0.2em;padding-left: 0.2em;position: relative;}#sk-container-id-1 div.sk-item {position: relative;z-index: 1;}#sk-container-id-1 div.sk-parallel {display: flex;align-items: stretch;justify-content: center;background-color: white;position: relative;}#sk-container-id-1 div.sk-item::before, #sk-container-id-1 div.sk-parallel-item::before {content: \"\";position: absolute;border-left: 1px solid gray;box-sizing: border-box;top: 0;bottom: 0;left: 50%;z-index: -1;}#sk-container-id-1 div.sk-parallel-item {display: flex;flex-direction: column;z-index: 1;position: relative;background-color: white;}#sk-container-id-1 div.sk-parallel-item:first-child::after {align-self: flex-end;width: 50%;}#sk-container-id-1 div.sk-parallel-item:last-child::after {align-self: flex-start;width: 50%;}#sk-container-id-1 div.sk-parallel-item:only-child::after {width: 0;}#sk-container-id-1 div.sk-dashed-wrapped {border: 1px dashed gray;margin: 0 0.4em 0.5em 0.4em;box-sizing: border-box;padding-bottom: 0.4em;background-color: white;}#sk-container-id-1 div.sk-label label {font-family: monospace;font-weight: bold;display: inline-block;line-height: 1.2em;}#sk-container-id-1 div.sk-label-container {text-align: center;}#sk-container-id-1 div.sk-container {/* jupyter's `normalize.less` sets `[hidden] { display: none; }` but bootstrap.min.css set `[hidden] { display: none !important; }` so we also need the `!important` here to be able to override the default hidden behavior on the sphinx rendered scikit-learn.org. See: https://github.com/scikit-learn/scikit-learn/issues/21755 */display: inline-block !important;position: relative;}#sk-container-id-1 div.sk-text-repr-fallback {display: none;}</style><div id=\"sk-container-id-1\" class=\"sk-top-container\"><div class=\"sk-text-repr-fallback\"><pre>ColumnTransformer(transformers=[(&#x27;num&#x27;, SimpleImputer(strategy=&#x27;median&#x27;),\n",
       "                                 [&#x27;Compartments&#x27;, &#x27;Weight Capacity (kg)&#x27;]),\n",
       "                                (&#x27;cat&#x27;,\n",
       "                                 Pipeline(steps=[(&#x27;imputer&#x27;,\n",
       "                                                  SimpleImputer(strategy=&#x27;most_frequent&#x27;)),\n",
       "                                                 (&#x27;onehot&#x27;,\n",
       "                                                  OneHotEncoder(handle_unknown=&#x27;ignore&#x27;))]),\n",
       "                                 [&#x27;Brand&#x27;, &#x27;Material&#x27;, &#x27;Size&#x27;,\n",
       "                                  &#x27;Laptop Compartment&#x27;, &#x27;Waterproof&#x27;, &#x27;Style&#x27;,\n",
       "                                  &#x27;Color&#x27;])])</pre><b>In a Jupyter environment, please rerun this cell to show the HTML representation or trust the notebook. <br />On GitHub, the HTML representation is unable to render, please try loading this page with nbviewer.org.</b></div><div class=\"sk-container\" hidden><div class=\"sk-item sk-dashed-wrapped\"><div class=\"sk-label-container\"><div class=\"sk-label sk-toggleable\"><input class=\"sk-toggleable__control sk-hidden--visually\" id=\"sk-estimator-id-1\" type=\"checkbox\" ><label for=\"sk-estimator-id-1\" class=\"sk-toggleable__label sk-toggleable__label-arrow\">ColumnTransformer</label><div class=\"sk-toggleable__content\"><pre>ColumnTransformer(transformers=[(&#x27;num&#x27;, SimpleImputer(strategy=&#x27;median&#x27;),\n",
       "                                 [&#x27;Compartments&#x27;, &#x27;Weight Capacity (kg)&#x27;]),\n",
       "                                (&#x27;cat&#x27;,\n",
       "                                 Pipeline(steps=[(&#x27;imputer&#x27;,\n",
       "                                                  SimpleImputer(strategy=&#x27;most_frequent&#x27;)),\n",
       "                                                 (&#x27;onehot&#x27;,\n",
       "                                                  OneHotEncoder(handle_unknown=&#x27;ignore&#x27;))]),\n",
       "                                 [&#x27;Brand&#x27;, &#x27;Material&#x27;, &#x27;Size&#x27;,\n",
       "                                  &#x27;Laptop Compartment&#x27;, &#x27;Waterproof&#x27;, &#x27;Style&#x27;,\n",
       "                                  &#x27;Color&#x27;])])</pre></div></div></div><div class=\"sk-parallel\"><div class=\"sk-parallel-item\"><div class=\"sk-item\"><div class=\"sk-label-container\"><div class=\"sk-label sk-toggleable\"><input class=\"sk-toggleable__control sk-hidden--visually\" id=\"sk-estimator-id-2\" type=\"checkbox\" ><label for=\"sk-estimator-id-2\" class=\"sk-toggleable__label sk-toggleable__label-arrow\">num</label><div class=\"sk-toggleable__content\"><pre>[&#x27;Compartments&#x27;, &#x27;Weight Capacity (kg)&#x27;]</pre></div></div></div><div class=\"sk-serial\"><div class=\"sk-item\"><div class=\"sk-estimator sk-toggleable\"><input class=\"sk-toggleable__control sk-hidden--visually\" id=\"sk-estimator-id-3\" type=\"checkbox\" ><label for=\"sk-estimator-id-3\" class=\"sk-toggleable__label sk-toggleable__label-arrow\">SimpleImputer</label><div class=\"sk-toggleable__content\"><pre>SimpleImputer(strategy=&#x27;median&#x27;)</pre></div></div></div></div></div></div><div class=\"sk-parallel-item\"><div class=\"sk-item\"><div class=\"sk-label-container\"><div class=\"sk-label sk-toggleable\"><input class=\"sk-toggleable__control sk-hidden--visually\" id=\"sk-estimator-id-4\" type=\"checkbox\" ><label for=\"sk-estimator-id-4\" class=\"sk-toggleable__label sk-toggleable__label-arrow\">cat</label><div class=\"sk-toggleable__content\"><pre>[&#x27;Brand&#x27;, &#x27;Material&#x27;, &#x27;Size&#x27;, &#x27;Laptop Compartment&#x27;, &#x27;Waterproof&#x27;, &#x27;Style&#x27;, &#x27;Color&#x27;]</pre></div></div></div><div class=\"sk-serial\"><div class=\"sk-item\"><div class=\"sk-serial\"><div class=\"sk-item\"><div class=\"sk-estimator sk-toggleable\"><input class=\"sk-toggleable__control sk-hidden--visually\" id=\"sk-estimator-id-5\" type=\"checkbox\" ><label for=\"sk-estimator-id-5\" class=\"sk-toggleable__label sk-toggleable__label-arrow\">SimpleImputer</label><div class=\"sk-toggleable__content\"><pre>SimpleImputer(strategy=&#x27;most_frequent&#x27;)</pre></div></div></div><div class=\"sk-item\"><div class=\"sk-estimator sk-toggleable\"><input class=\"sk-toggleable__control sk-hidden--visually\" id=\"sk-estimator-id-6\" type=\"checkbox\" ><label for=\"sk-estimator-id-6\" class=\"sk-toggleable__label sk-toggleable__label-arrow\">OneHotEncoder</label><div class=\"sk-toggleable__content\"><pre>OneHotEncoder(handle_unknown=&#x27;ignore&#x27;)</pre></div></div></div></div></div></div></div></div></div></div></div></div>"
      ],
      "text/plain": [
       "ColumnTransformer(transformers=[('num', SimpleImputer(strategy='median'),\n",
       "                                 ['Compartments', 'Weight Capacity (kg)']),\n",
       "                                ('cat',\n",
       "                                 Pipeline(steps=[('imputer',\n",
       "                                                  SimpleImputer(strategy='most_frequent')),\n",
       "                                                 ('onehot',\n",
       "                                                  OneHotEncoder(handle_unknown='ignore'))]),\n",
       "                                 ['Brand', 'Material', 'Size',\n",
       "                                  'Laptop Compartment', 'Waterproof', 'Style',\n",
       "                                  'Color'])])"
      ]
     },
     "execution_count": 7,
     "metadata": {},
     "output_type": "execute_result"
    }
   ],
   "source": [
    "from sklearn.compose import ColumnTransformer\n",
    "from sklearn.pipeline import Pipeline\n",
    "from sklearn.impute import SimpleImputer\n",
    "from sklearn.preprocessing import OneHotEncoder\n",
    "\n",
    "\n",
    "# \"Cardinality\" means the number of unique values in a column\n",
    "# Select categorical columns with relatively low cardinality (convenient but arbitrary)\n",
    "categorical_cols = [cname for cname in X_train.columns if X_train[cname].nunique() < 10 and \n",
    "                        X_train[cname].dtype == \"object\"]\n",
    "\n",
    "# Select numerical columns\n",
    "numerical_cols = [cname for cname in X_train.columns if X_train[cname].dtype in ['int64', 'float64']]\n",
    "\n",
    "# Preprocessing for numerical data\n",
    "numerical_transformer = SimpleImputer(strategy='median')\n",
    "\n",
    "# Preprocessing for categorical data\n",
    "categorical_transformer = Pipeline(steps=[\n",
    "    ('imputer', SimpleImputer(strategy='most_frequent')),\n",
    "    ('onehot', OneHotEncoder(handle_unknown='ignore'))\n",
    "])\n",
    "\n",
    "# Bundle preprocessing for numerical and categorical data\n",
    "preprocessor = ColumnTransformer(\n",
    "    transformers=[\n",
    "        ('num', numerical_transformer, numerical_cols),\n",
    "        ('cat', categorical_transformer, categorical_cols)\n",
    "    ])\n",
    "preprocessor\n"
   ]
  },
  {
   "cell_type": "code",
   "execution_count": 8,
   "id": "4d63ab37",
   "metadata": {
    "execution": {
     "iopub.execute_input": "2025-02-11T15:22:32.332353Z",
     "iopub.status.busy": "2025-02-11T15:22:32.332017Z",
     "iopub.status.idle": "2025-02-11T15:22:32.757879Z",
     "shell.execute_reply": "2025-02-11T15:22:32.756015Z"
    },
    "papermill": {
     "duration": 0.431702,
     "end_time": "2025-02-11T15:22:32.760134",
     "exception": false,
     "start_time": "2025-02-11T15:22:32.328432",
     "status": "completed"
    },
    "tags": []
   },
   "outputs": [],
   "source": [
    "from xgboost import XGBRegressor\n",
    "\n",
    "xgb_model = XGBRegressor(n_estimators=1500, learning_rate=0.05)"
   ]
  },
  {
   "cell_type": "code",
   "execution_count": 9,
   "id": "da0f1060",
   "metadata": {
    "execution": {
     "iopub.execute_input": "2025-02-11T15:22:32.770341Z",
     "iopub.status.busy": "2025-02-11T15:22:32.769950Z",
     "iopub.status.idle": "2025-02-11T15:23:39.921319Z",
     "shell.execute_reply": "2025-02-11T15:23:39.919715Z"
    },
    "papermill": {
     "duration": 67.157756,
     "end_time": "2025-02-11T15:23:39.923408",
     "exception": false,
     "start_time": "2025-02-11T15:22:32.765652",
     "status": "completed"
    },
    "tags": []
   },
   "outputs": [
    {
     "name": "stderr",
     "output_type": "stream",
     "text": [
      "/Users/arianurdu/Documents/backpack-prediction-challenge/venv/lib/python3.12/site-packages/xgboost/sklearn.py:889: UserWarning: `early_stopping_rounds` in `fit` method is deprecated for better compatibility with scikit-learn, use `early_stopping_rounds` in constructor or`set_params` instead.\n",
      "  warnings.warn(\n"
     ]
    },
    {
     "name": "stdout",
     "output_type": "stream",
     "text": [
      "Fitting 5 folds for each of 9 candidates, totalling 45 fits\n",
      "[CV 1/5] END model__learning_rate=0.01, model__n_estimators=100;, score=-1517.242 total time=   8.9s\n",
      "[CV 2/5] END model__learning_rate=0.01, model__n_estimators=100;, score=-1513.539 total time=   8.4s\n",
      "[CV 3/5] END model__learning_rate=0.01, model__n_estimators=100;, score=-1516.189 total time=   8.5s\n",
      "[CV 4/5] END model__learning_rate=0.01, model__n_estimators=100;, score=-1512.084 total time=   8.6s\n",
      "[CV 5/5] END model__learning_rate=0.01, model__n_estimators=100;, score=-1514.662 total time=   8.4s\n",
      "[CV 1/5] END model__learning_rate=0.01, model__n_estimators=500;, score=-1516.396 total time=  23.4s\n",
      "[CV 2/5] END model__learning_rate=0.01, model__n_estimators=500;, score=-1512.531 total time=  23.2s\n",
      "[CV 3/5] END model__learning_rate=0.01, model__n_estimators=500;, score=-1515.204 total time=  23.3s\n",
      "[CV 4/5] END model__learning_rate=0.01, model__n_estimators=500;, score=-1511.145 total time=  23.3s\n",
      "[CV 5/5] END model__learning_rate=0.01, model__n_estimators=500;, score=-1513.734 total time=  23.6s\n",
      "[CV 1/5] END model__learning_rate=0.01, model__n_estimators=1000;, score=-1516.296 total time=  39.8s\n",
      "[CV 2/5] END model__learning_rate=0.01, model__n_estimators=1000;, score=-1512.334 total time=  40.0s\n",
      "[CV 3/5] END model__learning_rate=0.01, model__n_estimators=1000;, score=-1515.074 total time=  40.1s\n",
      "[CV 4/5] END model__learning_rate=0.01, model__n_estimators=1000;, score=-1510.995 total time=  40.2s\n",
      "[CV 5/5] END model__learning_rate=0.01, model__n_estimators=1000;, score=-1513.562 total time=  39.9s\n",
      "[CV 1/5] END model__learning_rate=0.05, model__n_estimators=100;, score=-1516.391 total time=   8.3s\n",
      "[CV 2/5] END model__learning_rate=0.05, model__n_estimators=100;, score=-1512.496 total time=   8.3s\n",
      "[CV 3/5] END model__learning_rate=0.05, model__n_estimators=100;, score=-1515.164 total time=   8.5s\n",
      "[CV 4/5] END model__learning_rate=0.05, model__n_estimators=100;, score=-1511.153 total time=   8.4s\n",
      "[CV 5/5] END model__learning_rate=0.05, model__n_estimators=100;, score=-1513.725 total time=   8.5s\n",
      "[CV 1/5] END model__learning_rate=0.05, model__n_estimators=500;, score=-1516.601 total time=  21.0s\n",
      "[CV 2/5] END model__learning_rate=0.05, model__n_estimators=500;, score=-1512.499 total time=  21.1s\n",
      "[CV 3/5] END model__learning_rate=0.05, model__n_estimators=500;, score=-1515.367 total time=  21.1s\n",
      "[CV 4/5] END model__learning_rate=0.05, model__n_estimators=500;, score=-1511.230 total time=  20.9s\n",
      "[CV 5/5] END model__learning_rate=0.05, model__n_estimators=500;, score=-1513.752 total time=  20.9s\n",
      "[CV 1/5] END model__learning_rate=0.05, model__n_estimators=1000;, score=-1517.230 total time=  36.3s\n",
      "[CV 2/5] END model__learning_rate=0.05, model__n_estimators=1000;, score=-1513.156 total time=  39.9s\n",
      "[CV 3/5] END model__learning_rate=0.05, model__n_estimators=1000;, score=-1516.055 total time=  41.2s\n",
      "[CV 4/5] END model__learning_rate=0.05, model__n_estimators=1000;, score=-1511.811 total time=  46.5s\n",
      "[CV 5/5] END model__learning_rate=0.05, model__n_estimators=1000;, score=-1514.466 total time=  36.7s\n",
      "[CV 1/5] END model__learning_rate=0.1, model__n_estimators=100;, score=-1516.290 total time=   8.4s\n",
      "[CV 2/5] END model__learning_rate=0.1, model__n_estimators=100;, score=-1512.392 total time=   8.6s\n",
      "[CV 3/5] END model__learning_rate=0.1, model__n_estimators=100;, score=-1515.040 total time=   8.4s\n",
      "[CV 4/5] END model__learning_rate=0.1, model__n_estimators=100;, score=-1510.995 total time=   9.1s\n",
      "[CV 5/5] END model__learning_rate=0.1, model__n_estimators=100;, score=-1513.596 total time=   8.8s\n",
      "[CV 1/5] END model__learning_rate=0.1, model__n_estimators=500;, score=-1517.393 total time=  21.1s\n",
      "[CV 2/5] END model__learning_rate=0.1, model__n_estimators=500;, score=-1513.310 total time=  21.3s\n",
      "[CV 3/5] END model__learning_rate=0.1, model__n_estimators=500;, score=-1516.090 total time=  20.6s\n",
      "[CV 4/5] END model__learning_rate=0.1, model__n_estimators=500;, score=-1511.806 total time=  21.1s\n",
      "[CV 5/5] END model__learning_rate=0.1, model__n_estimators=500;, score=-1514.595 total time=  20.9s\n",
      "[CV 1/5] END model__learning_rate=0.1, model__n_estimators=1000;, score=-1518.831 total time=  37.3s\n",
      "[CV 2/5] END model__learning_rate=0.1, model__n_estimators=1000;, score=-1514.650 total time=  40.2s\n",
      "[CV 3/5] END model__learning_rate=0.1, model__n_estimators=1000;, score=-1517.486 total time=  37.7s\n",
      "[CV 4/5] END model__learning_rate=0.1, model__n_estimators=1000;, score=-1513.273 total time=  37.9s\n",
      "[CV 5/5] END model__learning_rate=0.1, model__n_estimators=1000;, score=-1516.258 total time=  38.1s\n",
      "Best parameters found:  {'model__learning_rate': 0.01, 'model__n_estimators': 1000}\n",
      "RMSE: 38.863895953304485\n"
     ]
    }
   ],
   "source": [
    "import sklearn\n",
    "\n",
    "# Bundle preprocessing and modeling code in a pipeline\n",
    "my_pipeline = Pipeline(steps=[('preprocessor', preprocessor),\n",
    "                              ('model', xgb_model)\n",
    "                             ])\n",
    "\n",
    "# 1. Fit the preprocessor on X_train:\n",
    "preprocessor.fit(X_train)\n",
    "\n",
    "# 2. Transform the validation set:\n",
    "X_valid_transformed = preprocessor.transform(X_valid)\n",
    "\n",
    "# Preprocessing of training data, fit model \n",
    "my_pipeline.fit(\n",
    "    X_train, y_train,\n",
    "    model__early_stopping_rounds=20,\n",
    "    model__eval_set=[(X_valid_transformed, y_valid)],\n",
    "    model__verbose=False\n",
    ")\n",
    "\n",
    "# Define the parameter grid\n",
    "param_grid = {\n",
    "    'model__n_estimators': [100, 500, 1000],\n",
    "    'model__learning_rate': [0.01, 0.05, 0.1]\n",
    "}\n",
    "\n",
    "# Set up the k-fold cross-validation\n",
    "kf = KFold(n_splits=5, shuffle=True, random_state=42)\n",
    "\n",
    "# Set up the grid search\n",
    "grid_search = GridSearchCV(my_pipeline, param_grid, cv=kf, scoring='neg_mean_squared_error', verbose=3)\n",
    "\n",
    "\n",
    "# Fit the grid search\n",
    "grid_search.fit(X_train, y_train)\n",
    "\n",
    "# Get the best parameters\n",
    "best_params = grid_search.best_params_\n",
    "print('Best parameters found: ', best_params)\n",
    "\n",
    "# Evaluate the model \n",
    "preds = grid_search.predict(X_valid)\n",
    "score = np.sqrt(sklearn.metrics.mean_squared_error(preds, y_valid))\n",
    "print('RMSE:', score)\n"
   ]
  },
  {
   "cell_type": "code",
   "execution_count": 10,
   "id": "60bf2dbb",
   "metadata": {
    "execution": {
     "iopub.execute_input": "2025-02-11T15:23:39.929310Z",
     "iopub.status.busy": "2025-02-11T15:23:39.928987Z",
     "iopub.status.idle": "2025-02-11T15:23:40.698897Z",
     "shell.execute_reply": "2025-02-11T15:23:40.697563Z"
    },
    "papermill": {
     "duration": 0.774931,
     "end_time": "2025-02-11T15:23:40.700655",
     "exception": false,
     "start_time": "2025-02-11T15:23:39.925724",
     "status": "completed"
    },
    "tags": []
   },
   "outputs": [],
   "source": [
    "if(server):\n",
    "    # Predict on test set\n",
    "    test_pred = my_pipeline.predict(X_test)\n",
    "\n",
    "    output = pd.DataFrame({'id': X_test.index,\n",
    "                        'Price': test_pred})\n",
    "\n",
    "    output.to_csv('submission.csv', index=False)"
   ]
  }
 ],
 "metadata": {
  "kaggle": {
   "accelerator": "none",
   "dataSources": [
    {
     "databundleVersionId": 10995111,
     "sourceId": 90274,
     "sourceType": "competition"
    }
   ],
   "dockerImageVersionId": 30839,
   "isGpuEnabled": false,
   "isInternetEnabled": false,
   "language": "python",
   "sourceType": "notebook"
  },
  "kernelspec": {
   "display_name": "venv",
   "language": "python",
   "name": "python3"
  },
  "language_info": {
   "codemirror_mode": {
    "name": "ipython",
    "version": 3
   },
   "file_extension": ".py",
   "mimetype": "text/x-python",
   "name": "python",
   "nbconvert_exporter": "python",
   "pygments_lexer": "ipython3",
   "version": "3.12.3"
  },
  "papermill": {
   "default_parameters": {},
   "duration": 90.855238,
   "end_time": "2025-02-11T15:23:41.627676",
   "environment_variables": {},
   "exception": null,
   "input_path": "__notebook__.ipynb",
   "output_path": "__notebook__.ipynb",
   "parameters": {},
   "start_time": "2025-02-11T15:22:10.772438",
   "version": "2.6.0"
  }
 },
 "nbformat": 4,
 "nbformat_minor": 5
}
