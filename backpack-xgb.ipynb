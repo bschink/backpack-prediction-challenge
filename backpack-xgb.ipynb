{
 "cells": [
  {
   "cell_type": "code",
   "execution_count": 1,
   "id": "21124847",
   "metadata": {
    "_cell_guid": "b1076dfc-b9ad-4769-8c92-a6c4dae69d19",
    "_uuid": "8f2839f25d086af736a60e9eeb907d3b93b6e0e5",
    "execution": {
     "iopub.execute_input": "2025-02-11T14:36:21.960187Z",
     "iopub.status.busy": "2025-02-11T14:36:21.959860Z",
     "iopub.status.idle": "2025-02-11T14:36:25.267418Z",
     "shell.execute_reply": "2025-02-11T14:36:25.266261Z"
    },
    "papermill": {
     "duration": 3.31322,
     "end_time": "2025-02-11T14:36:25.269233",
     "exception": false,
     "start_time": "2025-02-11T14:36:21.956013",
     "status": "completed"
    },
    "tags": []
   },
   "outputs": [],
   "source": [
    "import numpy as np # linear algebra\n",
    "import pandas as pd # data processing, CSV file I/O (e.g. pd.read_csv)\n",
    "import os\n",
    "from sklearn.model_selection import train_test_split\n",
    "\n",
    "# Input data files are available in the read-only \"../input/\" directory\n",
    "# For example, running this (by clicking run or pressing Shift+Enter) will list all files under the input directory\n",
    "\n"
   ]
  },
  {
   "cell_type": "code",
   "execution_count": 2,
   "id": "54ae3234",
   "metadata": {
    "execution": {
     "iopub.execute_input": "2025-02-11T14:36:25.275524Z",
     "iopub.status.busy": "2025-02-11T14:36:25.275062Z",
     "iopub.status.idle": "2025-02-11T14:36:35.231870Z",
     "shell.execute_reply": "2025-02-11T14:36:35.230864Z"
    },
    "papermill": {
     "duration": 9.961731,
     "end_time": "2025-02-11T14:36:35.233676",
     "exception": false,
     "start_time": "2025-02-11T14:36:25.271945",
     "status": "completed"
    },
    "tags": []
   },
   "outputs": [
    {
     "data": {
      "text/plain": [
       "Brand                   126758\n",
       "Material                110962\n",
       "Size                     87785\n",
       "Compartments                 0\n",
       "Laptop Compartment       98533\n",
       "Waterproof               94324\n",
       "Style                   104180\n",
       "Color                   133617\n",
       "Weight Capacity (kg)      1808\n",
       "dtype: int64"
      ]
     },
     "execution_count": 2,
     "metadata": {},
     "output_type": "execute_result"
    }
   ],
   "source": [
    "X_small = pd.read_csv('/kaggle/input/playground-series-s5e2/train.csv', index_col= 'id')\n",
    "X_test = pd.read_csv('/kaggle/input/playground-series-s5e2/test.csv', index_col= 'id')\n",
    "X_extra = pd.read_csv('/kaggle/input/playground-series-s5e2/training_extra.csv', index_col= 'id')\n",
    "\n",
    "X_full = pd.concat([X_small, X_extra], ignore_index=True)\n",
    "\n",
    "# Remove rows with missing values for price\n",
    "X_full.dropna(axis=0,subset=['Price'],inplace=True)\n",
    "\n",
    "# Remove rows with missing values for all\n",
    "#X_full.dropna(axis=0,subset=['Price','Brand','Material','Size', 'Compartments', 'Laptop Compartment',\n",
    "#                            'Waterproof','Style', 'Color', 'Weight Capacity (kg)'],inplace=True)\n",
    "\n",
    "# Seperate Targets\n",
    "y = X_full.Price\n",
    "X_full.drop(['Price'],inplace=True, axis=1)\n",
    "\n",
    "\n",
    "X_full.isna().sum()\n",
    "\n",
    "\n"
   ]
  },
  {
   "cell_type": "code",
   "execution_count": 3,
   "id": "47bca43e",
   "metadata": {
    "execution": {
     "iopub.execute_input": "2025-02-11T14:36:35.240520Z",
     "iopub.status.busy": "2025-02-11T14:36:35.240209Z",
     "iopub.status.idle": "2025-02-11T14:36:35.259578Z",
     "shell.execute_reply": "2025-02-11T14:36:35.258248Z"
    },
    "papermill": {
     "duration": 0.025074,
     "end_time": "2025-02-11T14:36:35.261265",
     "exception": false,
     "start_time": "2025-02-11T14:36:35.236191",
     "status": "completed"
    },
    "tags": []
   },
   "outputs": [
    {
     "name": "stdout",
     "output_type": "stream",
     "text": [
      "<class 'pandas.core.frame.DataFrame'>\n",
      "RangeIndex: 3994318 entries, 0 to 3994317\n",
      "Data columns (total 9 columns):\n",
      " #   Column                Dtype  \n",
      "---  ------                -----  \n",
      " 0   Brand                 object \n",
      " 1   Material              object \n",
      " 2   Size                  object \n",
      " 3   Compartments          float64\n",
      " 4   Laptop Compartment    object \n",
      " 5   Waterproof            object \n",
      " 6   Style                 object \n",
      " 7   Color                 object \n",
      " 8   Weight Capacity (kg)  float64\n",
      "dtypes: float64(2), object(7)\n",
      "memory usage: 274.3+ MB\n"
     ]
    }
   ],
   "source": [
    "X_full.info()"
   ]
  },
  {
   "cell_type": "code",
   "execution_count": 4,
   "id": "047c97f0",
   "metadata": {
    "execution": {
     "iopub.execute_input": "2025-02-11T14:36:35.267164Z",
     "iopub.status.busy": "2025-02-11T14:36:35.266789Z",
     "iopub.status.idle": "2025-02-11T14:36:37.288500Z",
     "shell.execute_reply": "2025-02-11T14:36:37.287702Z"
    },
    "papermill": {
     "duration": 2.026308,
     "end_time": "2025-02-11T14:36:37.290045",
     "exception": false,
     "start_time": "2025-02-11T14:36:35.263737",
     "status": "completed"
    },
    "tags": []
   },
   "outputs": [],
   "source": [
    "# Break validiation set from train data\n",
    "X_train, X_valid, y_train, y_valid = train_test_split(X_full, y, train_size=0.8,test_size=0.2)\n"
   ]
  },
  {
   "cell_type": "code",
   "execution_count": 5,
   "id": "cbfc88fd",
   "metadata": {
    "execution": {
     "iopub.execute_input": "2025-02-11T14:36:37.295144Z",
     "iopub.status.busy": "2025-02-11T14:36:37.294904Z",
     "iopub.status.idle": "2025-02-11T14:36:38.465219Z",
     "shell.execute_reply": "2025-02-11T14:36:38.464107Z"
    },
    "papermill": {
     "duration": 1.174729,
     "end_time": "2025-02-11T14:36:38.467041",
     "exception": false,
     "start_time": "2025-02-11T14:36:37.292312",
     "status": "completed"
    },
    "tags": []
   },
   "outputs": [
    {
     "data": {
      "text/html": [
       "<style>#sk-container-id-1 {color: black;background-color: white;}#sk-container-id-1 pre{padding: 0;}#sk-container-id-1 div.sk-toggleable {background-color: white;}#sk-container-id-1 label.sk-toggleable__label {cursor: pointer;display: block;width: 100%;margin-bottom: 0;padding: 0.3em;box-sizing: border-box;text-align: center;}#sk-container-id-1 label.sk-toggleable__label-arrow:before {content: \"▸\";float: left;margin-right: 0.25em;color: #696969;}#sk-container-id-1 label.sk-toggleable__label-arrow:hover:before {color: black;}#sk-container-id-1 div.sk-estimator:hover label.sk-toggleable__label-arrow:before {color: black;}#sk-container-id-1 div.sk-toggleable__content {max-height: 0;max-width: 0;overflow: hidden;text-align: left;background-color: #f0f8ff;}#sk-container-id-1 div.sk-toggleable__content pre {margin: 0.2em;color: black;border-radius: 0.25em;background-color: #f0f8ff;}#sk-container-id-1 input.sk-toggleable__control:checked~div.sk-toggleable__content {max-height: 200px;max-width: 100%;overflow: auto;}#sk-container-id-1 input.sk-toggleable__control:checked~label.sk-toggleable__label-arrow:before {content: \"▾\";}#sk-container-id-1 div.sk-estimator input.sk-toggleable__control:checked~label.sk-toggleable__label {background-color: #d4ebff;}#sk-container-id-1 div.sk-label input.sk-toggleable__control:checked~label.sk-toggleable__label {background-color: #d4ebff;}#sk-container-id-1 input.sk-hidden--visually {border: 0;clip: rect(1px 1px 1px 1px);clip: rect(1px, 1px, 1px, 1px);height: 1px;margin: -1px;overflow: hidden;padding: 0;position: absolute;width: 1px;}#sk-container-id-1 div.sk-estimator {font-family: monospace;background-color: #f0f8ff;border: 1px dotted black;border-radius: 0.25em;box-sizing: border-box;margin-bottom: 0.5em;}#sk-container-id-1 div.sk-estimator:hover {background-color: #d4ebff;}#sk-container-id-1 div.sk-parallel-item::after {content: \"\";width: 100%;border-bottom: 1px solid gray;flex-grow: 1;}#sk-container-id-1 div.sk-label:hover label.sk-toggleable__label {background-color: #d4ebff;}#sk-container-id-1 div.sk-serial::before {content: \"\";position: absolute;border-left: 1px solid gray;box-sizing: border-box;top: 0;bottom: 0;left: 50%;z-index: 0;}#sk-container-id-1 div.sk-serial {display: flex;flex-direction: column;align-items: center;background-color: white;padding-right: 0.2em;padding-left: 0.2em;position: relative;}#sk-container-id-1 div.sk-item {position: relative;z-index: 1;}#sk-container-id-1 div.sk-parallel {display: flex;align-items: stretch;justify-content: center;background-color: white;position: relative;}#sk-container-id-1 div.sk-item::before, #sk-container-id-1 div.sk-parallel-item::before {content: \"\";position: absolute;border-left: 1px solid gray;box-sizing: border-box;top: 0;bottom: 0;left: 50%;z-index: -1;}#sk-container-id-1 div.sk-parallel-item {display: flex;flex-direction: column;z-index: 1;position: relative;background-color: white;}#sk-container-id-1 div.sk-parallel-item:first-child::after {align-self: flex-end;width: 50%;}#sk-container-id-1 div.sk-parallel-item:last-child::after {align-self: flex-start;width: 50%;}#sk-container-id-1 div.sk-parallel-item:only-child::after {width: 0;}#sk-container-id-1 div.sk-dashed-wrapped {border: 1px dashed gray;margin: 0 0.4em 0.5em 0.4em;box-sizing: border-box;padding-bottom: 0.4em;background-color: white;}#sk-container-id-1 div.sk-label label {font-family: monospace;font-weight: bold;display: inline-block;line-height: 1.2em;}#sk-container-id-1 div.sk-label-container {text-align: center;}#sk-container-id-1 div.sk-container {/* jupyter's `normalize.less` sets `[hidden] { display: none; }` but bootstrap.min.css set `[hidden] { display: none !important; }` so we also need the `!important` here to be able to override the default hidden behavior on the sphinx rendered scikit-learn.org. See: https://github.com/scikit-learn/scikit-learn/issues/21755 */display: inline-block !important;position: relative;}#sk-container-id-1 div.sk-text-repr-fallback {display: none;}</style><div id=\"sk-container-id-1\" class=\"sk-top-container\"><div class=\"sk-text-repr-fallback\"><pre>ColumnTransformer(transformers=[(&#x27;num&#x27;, SimpleImputer(strategy=&#x27;median&#x27;),\n",
       "                                 [&#x27;Compartments&#x27;, &#x27;Weight Capacity (kg)&#x27;]),\n",
       "                                (&#x27;cat&#x27;,\n",
       "                                 Pipeline(steps=[(&#x27;imputer&#x27;,\n",
       "                                                  SimpleImputer(strategy=&#x27;most_frequent&#x27;)),\n",
       "                                                 (&#x27;onehot&#x27;,\n",
       "                                                  OneHotEncoder(handle_unknown=&#x27;ignore&#x27;))]),\n",
       "                                 [&#x27;Brand&#x27;, &#x27;Material&#x27;, &#x27;Size&#x27;,\n",
       "                                  &#x27;Laptop Compartment&#x27;, &#x27;Waterproof&#x27;, &#x27;Style&#x27;,\n",
       "                                  &#x27;Color&#x27;])])</pre><b>In a Jupyter environment, please rerun this cell to show the HTML representation or trust the notebook. <br />On GitHub, the HTML representation is unable to render, please try loading this page with nbviewer.org.</b></div><div class=\"sk-container\" hidden><div class=\"sk-item sk-dashed-wrapped\"><div class=\"sk-label-container\"><div class=\"sk-label sk-toggleable\"><input class=\"sk-toggleable__control sk-hidden--visually\" id=\"sk-estimator-id-1\" type=\"checkbox\" ><label for=\"sk-estimator-id-1\" class=\"sk-toggleable__label sk-toggleable__label-arrow\">ColumnTransformer</label><div class=\"sk-toggleable__content\"><pre>ColumnTransformer(transformers=[(&#x27;num&#x27;, SimpleImputer(strategy=&#x27;median&#x27;),\n",
       "                                 [&#x27;Compartments&#x27;, &#x27;Weight Capacity (kg)&#x27;]),\n",
       "                                (&#x27;cat&#x27;,\n",
       "                                 Pipeline(steps=[(&#x27;imputer&#x27;,\n",
       "                                                  SimpleImputer(strategy=&#x27;most_frequent&#x27;)),\n",
       "                                                 (&#x27;onehot&#x27;,\n",
       "                                                  OneHotEncoder(handle_unknown=&#x27;ignore&#x27;))]),\n",
       "                                 [&#x27;Brand&#x27;, &#x27;Material&#x27;, &#x27;Size&#x27;,\n",
       "                                  &#x27;Laptop Compartment&#x27;, &#x27;Waterproof&#x27;, &#x27;Style&#x27;,\n",
       "                                  &#x27;Color&#x27;])])</pre></div></div></div><div class=\"sk-parallel\"><div class=\"sk-parallel-item\"><div class=\"sk-item\"><div class=\"sk-label-container\"><div class=\"sk-label sk-toggleable\"><input class=\"sk-toggleable__control sk-hidden--visually\" id=\"sk-estimator-id-2\" type=\"checkbox\" ><label for=\"sk-estimator-id-2\" class=\"sk-toggleable__label sk-toggleable__label-arrow\">num</label><div class=\"sk-toggleable__content\"><pre>[&#x27;Compartments&#x27;, &#x27;Weight Capacity (kg)&#x27;]</pre></div></div></div><div class=\"sk-serial\"><div class=\"sk-item\"><div class=\"sk-estimator sk-toggleable\"><input class=\"sk-toggleable__control sk-hidden--visually\" id=\"sk-estimator-id-3\" type=\"checkbox\" ><label for=\"sk-estimator-id-3\" class=\"sk-toggleable__label sk-toggleable__label-arrow\">SimpleImputer</label><div class=\"sk-toggleable__content\"><pre>SimpleImputer(strategy=&#x27;median&#x27;)</pre></div></div></div></div></div></div><div class=\"sk-parallel-item\"><div class=\"sk-item\"><div class=\"sk-label-container\"><div class=\"sk-label sk-toggleable\"><input class=\"sk-toggleable__control sk-hidden--visually\" id=\"sk-estimator-id-4\" type=\"checkbox\" ><label for=\"sk-estimator-id-4\" class=\"sk-toggleable__label sk-toggleable__label-arrow\">cat</label><div class=\"sk-toggleable__content\"><pre>[&#x27;Brand&#x27;, &#x27;Material&#x27;, &#x27;Size&#x27;, &#x27;Laptop Compartment&#x27;, &#x27;Waterproof&#x27;, &#x27;Style&#x27;, &#x27;Color&#x27;]</pre></div></div></div><div class=\"sk-serial\"><div class=\"sk-item\"><div class=\"sk-serial\"><div class=\"sk-item\"><div class=\"sk-estimator sk-toggleable\"><input class=\"sk-toggleable__control sk-hidden--visually\" id=\"sk-estimator-id-5\" type=\"checkbox\" ><label for=\"sk-estimator-id-5\" class=\"sk-toggleable__label sk-toggleable__label-arrow\">SimpleImputer</label><div class=\"sk-toggleable__content\"><pre>SimpleImputer(strategy=&#x27;most_frequent&#x27;)</pre></div></div></div><div class=\"sk-item\"><div class=\"sk-estimator sk-toggleable\"><input class=\"sk-toggleable__control sk-hidden--visually\" id=\"sk-estimator-id-6\" type=\"checkbox\" ><label for=\"sk-estimator-id-6\" class=\"sk-toggleable__label sk-toggleable__label-arrow\">OneHotEncoder</label><div class=\"sk-toggleable__content\"><pre>OneHotEncoder(handle_unknown=&#x27;ignore&#x27;)</pre></div></div></div></div></div></div></div></div></div></div></div></div>"
      ],
      "text/plain": [
       "ColumnTransformer(transformers=[('num', SimpleImputer(strategy='median'),\n",
       "                                 ['Compartments', 'Weight Capacity (kg)']),\n",
       "                                ('cat',\n",
       "                                 Pipeline(steps=[('imputer',\n",
       "                                                  SimpleImputer(strategy='most_frequent')),\n",
       "                                                 ('onehot',\n",
       "                                                  OneHotEncoder(handle_unknown='ignore'))]),\n",
       "                                 ['Brand', 'Material', 'Size',\n",
       "                                  'Laptop Compartment', 'Waterproof', 'Style',\n",
       "                                  'Color'])])"
      ]
     },
     "execution_count": 5,
     "metadata": {},
     "output_type": "execute_result"
    }
   ],
   "source": [
    "from sklearn.compose import ColumnTransformer\n",
    "from sklearn.pipeline import Pipeline\n",
    "from sklearn.impute import SimpleImputer\n",
    "from sklearn.preprocessing import OneHotEncoder\n",
    "\n",
    "\n",
    "# \"Cardinality\" means the number of unique values in a column\n",
    "# Select categorical columns with relatively low cardinality (convenient but arbitrary)\n",
    "categorical_cols = [cname for cname in X_train.columns if X_train[cname].nunique() < 10 and \n",
    "                        X_train[cname].dtype == \"object\"]\n",
    "\n",
    "# Select numerical columns\n",
    "numerical_cols = [cname for cname in X_train.columns if X_train[cname].dtype in ['int64', 'float64']]\n",
    "\n",
    "# Preprocessing for numerical data\n",
    "numerical_transformer = SimpleImputer(strategy='median')\n",
    "\n",
    "# Preprocessing for categorical data\n",
    "categorical_transformer = Pipeline(steps=[\n",
    "    ('imputer', SimpleImputer(strategy='most_frequent')),\n",
    "    ('onehot', OneHotEncoder(handle_unknown='ignore'))\n",
    "])\n",
    "\n",
    "# Bundle preprocessing for numerical and categorical data\n",
    "preprocessor = ColumnTransformer(\n",
    "    transformers=[\n",
    "        ('num', numerical_transformer, numerical_cols),\n",
    "        ('cat', categorical_transformer, categorical_cols)\n",
    "    ])\n",
    "preprocessor\n"
   ]
  },
  {
   "cell_type": "code",
   "execution_count": 6,
   "id": "5096e260",
   "metadata": {
    "execution": {
     "iopub.execute_input": "2025-02-11T14:36:38.473681Z",
     "iopub.status.busy": "2025-02-11T14:36:38.473302Z",
     "iopub.status.idle": "2025-02-11T14:36:38.799449Z",
     "shell.execute_reply": "2025-02-11T14:36:38.798267Z"
    },
    "papermill": {
     "duration": 0.331292,
     "end_time": "2025-02-11T14:36:38.801288",
     "exception": false,
     "start_time": "2025-02-11T14:36:38.469996",
     "status": "completed"
    },
    "tags": []
   },
   "outputs": [],
   "source": [
    "from xgboost import XGBRegressor\n",
    "\n",
    "xgb_model = XGBRegressor(n_estimators=1000, learning_rate=0.05)"
   ]
  },
  {
   "cell_type": "code",
   "execution_count": 7,
   "id": "0430f702",
   "metadata": {
    "execution": {
     "iopub.execute_input": "2025-02-11T14:36:38.807489Z",
     "iopub.status.busy": "2025-02-11T14:36:38.807177Z",
     "iopub.status.idle": "2025-02-11T14:37:46.515300Z",
     "shell.execute_reply": "2025-02-11T14:37:46.514254Z"
    },
    "papermill": {
     "duration": 67.714302,
     "end_time": "2025-02-11T14:37:46.518357",
     "exception": false,
     "start_time": "2025-02-11T14:36:38.804055",
     "status": "completed"
    },
    "tags": []
   },
   "outputs": [
    {
     "name": "stderr",
     "output_type": "stream",
     "text": [
      "/usr/local/lib/python3.10/dist-packages/xgboost/sklearn.py:889: UserWarning: `early_stopping_rounds` in `fit` method is deprecated for better compatibility with scikit-learn, use `early_stopping_rounds` in constructor or`set_params` instead.\n",
      "  warnings.warn(\n"
     ]
    },
    {
     "name": "stdout",
     "output_type": "stream",
     "text": [
      "RMSE: 38.88972523617408\n"
     ]
    }
   ],
   "source": [
    "import sklearn\n",
    "\n",
    "# Bundle preprocessing and modeling code in a pipeline\n",
    "my_pipeline = Pipeline(steps=[('preprocessor', preprocessor),\n",
    "                              ('model', xgb_model)\n",
    "                             ])\n",
    "\n",
    "# 1. Fit the preprocessor on X_train:\n",
    "preprocessor.fit(X_train)\n",
    "\n",
    "# 2. Transform the validation set:\n",
    "X_valid_transformed = preprocessor.transform(X_valid)\n",
    "\n",
    "# Preprocessing of training data, fit model \n",
    "my_pipeline.fit(\n",
    "    X_train, y_train,\n",
    "    model__early_stopping_rounds=5,\n",
    "    model__eval_set=[(X_valid_transformed, y_valid)],\n",
    "    model__verbose=False\n",
    ")\n",
    "\n",
    "# Preprocessing of validation data, get predictions\n",
    "preds = my_pipeline.predict(X_valid)\n",
    "\n",
    "# Evaluate the model \n",
    "score = np.sqrt(sklearn.metrics.mean_squared_error(preds, y_valid))\n",
    "print('RMSE:', score)"
   ]
  },
  {
   "cell_type": "code",
   "execution_count": 8,
   "id": "16be6061",
   "metadata": {
    "execution": {
     "iopub.execute_input": "2025-02-11T14:37:46.523884Z",
     "iopub.status.busy": "2025-02-11T14:37:46.523493Z",
     "iopub.status.idle": "2025-02-11T14:37:47.170243Z",
     "shell.execute_reply": "2025-02-11T14:37:47.169090Z"
    },
    "papermill": {
     "duration": 0.651451,
     "end_time": "2025-02-11T14:37:47.171965",
     "exception": false,
     "start_time": "2025-02-11T14:37:46.520514",
     "status": "completed"
    },
    "tags": []
   },
   "outputs": [],
   "source": [
    "# Predict on test set\n",
    "test_pred = my_pipeline.predict(X_test)\n",
    "\n",
    "output = pd.DataFrame({'id': X_test.index,\n",
    "                      'Price': test_pred})\n",
    "\n",
    "output.to_csv('submission.csv', index=False)"
   ]
  }
 ],
 "metadata": {
  "kaggle": {
   "accelerator": "none",
   "dataSources": [
    {
     "databundleVersionId": 10995111,
     "sourceId": 90274,
     "sourceType": "competition"
    }
   ],
   "dockerImageVersionId": 30839,
   "isGpuEnabled": false,
   "isInternetEnabled": false,
   "language": "python",
   "sourceType": "notebook"
  },
  "kernelspec": {
   "display_name": "Python 3",
   "language": "python",
   "name": "python3"
  },
  "language_info": {
   "codemirror_mode": {
    "name": "ipython",
    "version": 3
   },
   "file_extension": ".py",
   "mimetype": "text/x-python",
   "name": "python",
   "nbconvert_exporter": "python",
   "pygments_lexer": "ipython3",
   "version": "3.10.12"
  },
  "papermill": {
   "default_parameters": {},
   "duration": 88.931238,
   "end_time": "2025-02-11T14:37:48.096686",
   "environment_variables": {},
   "exception": null,
   "input_path": "__notebook__.ipynb",
   "output_path": "__notebook__.ipynb",
   "parameters": {},
   "start_time": "2025-02-11T14:36:19.165448",
   "version": "2.6.0"
  }
 },
 "nbformat": 4,
 "nbformat_minor": 5
}
