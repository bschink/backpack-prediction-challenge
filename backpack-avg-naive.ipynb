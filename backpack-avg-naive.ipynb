{
 "cells": [
  {
   "cell_type": "code",
   "execution_count": 1,
   "id": "03f27e2d",
   "metadata": {
    "_cell_guid": "b1076dfc-b9ad-4769-8c92-a6c4dae69d19",
    "_uuid": "8f2839f25d086af736a60e9eeb907d3b93b6e0e5",
    "execution": {
     "iopub.execute_input": "2025-02-07T15:44:40.982488Z",
     "iopub.status.busy": "2025-02-07T15:44:40.982151Z",
     "iopub.status.idle": "2025-02-07T15:44:43.244089Z",
     "shell.execute_reply": "2025-02-07T15:44:43.243175Z"
    },
    "papermill": {
     "duration": 2.267774,
     "end_time": "2025-02-07T15:44:43.245877",
     "exception": false,
     "start_time": "2025-02-07T15:44:40.978103",
     "status": "completed"
    },
    "tags": []
   },
   "outputs": [],
   "source": [
    "import numpy as np # linear algebra\n",
    "import pandas as pd # data processing, CSV file I/O (e.g. pd.read_csv)\n",
    "import os\n",
    "from sklearn.model_selection import train_test_split\n",
    "\n",
    "# Input data files are available in the read-only \"../input/\" directory\n",
    "# For example, running this (by clicking run or pressing Shift+Enter) will list all files under the input directory\n",
    "\n"
   ]
  },
  {
   "cell_type": "code",
   "execution_count": 2,
   "id": "479272be",
   "metadata": {
    "execution": {
     "iopub.execute_input": "2025-02-07T15:44:43.252578Z",
     "iopub.status.busy": "2025-02-07T15:44:43.252081Z",
     "iopub.status.idle": "2025-02-07T15:44:44.371609Z",
     "shell.execute_reply": "2025-02-07T15:44:44.370773Z"
    },
    "papermill": {
     "duration": 1.124572,
     "end_time": "2025-02-07T15:44:44.373445",
     "exception": false,
     "start_time": "2025-02-07T15:44:43.248873",
     "status": "completed"
    },
    "tags": []
   },
   "outputs": [],
   "source": [
    "X_full = pd.read_csv('/kaggle/input/playground-series-s5e2/train.csv', index_col= 'id')\n",
    "X_test_full = pd.read_csv('/kaggle/input/playground-series-s5e2/test.csv', index_col= 'id')\n",
    "\n",
    "# Remove rows with missing values\n",
    "X_full.dropna(axis=0,subset=['Price'],inplace=True)\n",
    "\n",
    "# Seperate Targets\n",
    "y = X_full.Price\n",
    "X_full.drop(['Price'],inplace=True, axis=1)"
   ]
  },
  {
   "cell_type": "code",
   "execution_count": 3,
   "id": "9587dc53",
   "metadata": {
    "execution": {
     "iopub.execute_input": "2025-02-07T15:44:44.380209Z",
     "iopub.status.busy": "2025-02-07T15:44:44.379889Z",
     "iopub.status.idle": "2025-02-07T15:44:44.443350Z",
     "shell.execute_reply": "2025-02-07T15:44:44.442446Z"
    },
    "papermill": {
     "duration": 0.06896,
     "end_time": "2025-02-07T15:44:44.445206",
     "exception": false,
     "start_time": "2025-02-07T15:44:44.376246",
     "status": "completed"
    },
    "tags": []
   },
   "outputs": [],
   "source": [
    "# Break validiation set from train data\n",
    "X_train_full, X_valid_full, y_train, y_valid = train_test_split(X_full, y, train_size=0.8,test_size=0.2)"
   ]
  },
  {
   "cell_type": "code",
   "execution_count": 4,
   "id": "0a1873c0",
   "metadata": {
    "execution": {
     "iopub.execute_input": "2025-02-07T15:44:44.450921Z",
     "iopub.status.busy": "2025-02-07T15:44:44.450556Z",
     "iopub.status.idle": "2025-02-07T15:44:44.466280Z",
     "shell.execute_reply": "2025-02-07T15:44:44.465365Z"
    },
    "papermill": {
     "duration": 0.020957,
     "end_time": "2025-02-07T15:44:44.468615",
     "exception": false,
     "start_time": "2025-02-07T15:44:44.447658",
     "status": "completed"
    },
    "tags": []
   },
   "outputs": [
    {
     "data": {
      "text/plain": [
       "0    80.95612\n",
       "0    80.95612\n",
       "0    80.95612\n",
       "0    80.95612\n",
       "0    80.95612\n",
       "       ...   \n",
       "0    80.95612\n",
       "0    80.95612\n",
       "0    80.95612\n",
       "0    80.95612\n",
       "0    80.95612\n",
       "Length: 60000, dtype: float64"
      ]
     },
     "execution_count": 4,
     "metadata": {},
     "output_type": "execute_result"
    }
   ],
   "source": [
    "median = np.median(y)\n",
    "median_pred = pd.Series([median]).repeat(y_valid.size)\n",
    "median_pred"
   ]
  },
  {
   "cell_type": "code",
   "execution_count": 5,
   "id": "8548628b",
   "metadata": {
    "execution": {
     "iopub.execute_input": "2025-02-07T15:44:44.474465Z",
     "iopub.status.busy": "2025-02-07T15:44:44.474164Z",
     "iopub.status.idle": "2025-02-07T15:44:44.488511Z",
     "shell.execute_reply": "2025-02-07T15:44:44.487507Z"
    },
    "papermill": {
     "duration": 0.018912,
     "end_time": "2025-02-07T15:44:44.490094",
     "exception": false,
     "start_time": "2025-02-07T15:44:44.471182",
     "status": "completed"
    },
    "tags": []
   },
   "outputs": [
    {
     "name": "stdout",
     "output_type": "stream",
     "text": [
      "RMSE = 39.047079135770865\n"
     ]
    }
   ],
   "source": [
    "import sklearn\n",
    "print('RMSE = ' + str(np.sqrt(sklearn.metrics.mean_squared_error(median_pred, y_valid))))"
   ]
  },
  {
   "cell_type": "code",
   "execution_count": 6,
   "id": "099373f5",
   "metadata": {
    "execution": {
     "iopub.execute_input": "2025-02-07T15:44:44.496169Z",
     "iopub.status.busy": "2025-02-07T15:44:44.495838Z",
     "iopub.status.idle": "2025-02-07T15:44:44.504586Z",
     "shell.execute_reply": "2025-02-07T15:44:44.503582Z"
    },
    "papermill": {
     "duration": 0.013456,
     "end_time": "2025-02-07T15:44:44.506159",
     "exception": false,
     "start_time": "2025-02-07T15:44:44.492703",
     "status": "completed"
    },
    "tags": []
   },
   "outputs": [
    {
     "data": {
      "text/plain": [
       "0    80.95612\n",
       "0    80.95612\n",
       "0    80.95612\n",
       "0    80.95612\n",
       "0    80.95612\n",
       "       ...   \n",
       "0    80.95612\n",
       "0    80.95612\n",
       "0    80.95612\n",
       "0    80.95612\n",
       "0    80.95612\n",
       "Length: 200000, dtype: float64"
      ]
     },
     "execution_count": 6,
     "metadata": {},
     "output_type": "execute_result"
    }
   ],
   "source": [
    "# Predict on test set\n",
    "median_pred_test = pd.Series([median]).repeat(X_test_full.index.size)\n",
    "median_pred_test\n"
   ]
  },
  {
   "cell_type": "code",
   "execution_count": 7,
   "id": "e23cfb34",
   "metadata": {
    "execution": {
     "iopub.execute_input": "2025-02-07T15:44:44.512922Z",
     "iopub.status.busy": "2025-02-07T15:44:44.512562Z",
     "iopub.status.idle": "2025-02-07T15:44:44.795641Z",
     "shell.execute_reply": "2025-02-07T15:44:44.794771Z"
    },
    "papermill": {
     "duration": 0.2883,
     "end_time": "2025-02-07T15:44:44.797488",
     "exception": false,
     "start_time": "2025-02-07T15:44:44.509188",
     "status": "completed"
    },
    "tags": []
   },
   "outputs": [],
   "source": [
    "output = pd.DataFrame({'id': X_test_full.index,\n",
    "                      'Price': median_pred_test})\n",
    "\n",
    "output.to_csv('submission.csv', index=False)"
   ]
  }
 ],
 "metadata": {
  "kaggle": {
   "accelerator": "none",
   "dataSources": [
    {
     "databundleVersionId": 10995111,
     "sourceId": 90274,
     "sourceType": "competition"
    }
   ],
   "dockerImageVersionId": 30839,
   "isGpuEnabled": false,
   "isInternetEnabled": false,
   "language": "python",
   "sourceType": "notebook"
  },
  "kernelspec": {
   "display_name": "Python 3",
   "language": "python",
   "name": "python3"
  },
  "language_info": {
   "codemirror_mode": {
    "name": "ipython",
    "version": 3
   },
   "file_extension": ".py",
   "mimetype": "text/x-python",
   "name": "python",
   "nbconvert_exporter": "python",
   "pygments_lexer": "ipython3",
   "version": "3.10.12"
  },
  "papermill": {
   "default_parameters": {},
   "duration": 7.471,
   "end_time": "2025-02-07T15:44:45.419922",
   "environment_variables": {},
   "exception": null,
   "input_path": "__notebook__.ipynb",
   "output_path": "__notebook__.ipynb",
   "parameters": {},
   "start_time": "2025-02-07T15:44:37.948922",
   "version": "2.6.0"
  }
 },
 "nbformat": 4,
 "nbformat_minor": 5
}
